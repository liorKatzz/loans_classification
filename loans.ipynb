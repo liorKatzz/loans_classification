{
 "cells": [
  {
   "cell_type": "code",
   "execution_count": 0,
   "metadata": {
    "colab": {
     "base_uri": "https://localhost:8080/",
     "height": 75,
     "resources": {
      "http://localhost:8080/nbextensions/google.colab/files.js": {
       "data": "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",
       "headers": [
        [
         "content-type",
         "application/javascript"
        ]
       ],
       "ok": true,
       "status": 200,
       "status_text": ""
      }
     }
    },
    "colab_type": "code",
    "id": "8VAGPcW5yiYq",
    "outputId": "cae6845f-0c0b-4e6c-8b4c-2cc1501af527"
   },
   "outputs": [
    {
     "data": {
      "text/html": [
       "\n",
       "     <input type=\"file\" id=\"files-a09aa53b-c792-4377-bb4e-9bb11c557a47\" name=\"files[]\" multiple disabled />\n",
       "     <output id=\"result-a09aa53b-c792-4377-bb4e-9bb11c557a47\">\n",
       "      Upload widget is only available when the cell has been executed in the\n",
       "      current browser session. Please rerun this cell to enable.\n",
       "      </output>\n",
       "      <script src=\"/nbextensions/google.colab/files.js\"></script> "
      ],
      "text/plain": [
       "<IPython.core.display.HTML object>"
      ]
     },
     "metadata": {
      "tags": []
     },
     "output_type": "display_data"
    },
    {
     "name": "stdout",
     "output_type": "stream",
     "text": [
      "Saving LoanStats3c.csv to LoanStats3c.csv\n"
     ]
    }
   ],
   "source": [
    "import pandas as pd\n",
    "import matplotlib.pyplot as plt\n",
    "import seaborn as sns\n",
    "import numpy as np\n",
    "import re\n",
    "from sklearn.neighbors import KNeighborsClassifier\n",
    "from sklearn.model_selection import train_test_split, cross_val_score\n",
    "from sklearn.naive_bayes import GaussianNB, MultinomialNB, BernoulliNB\n",
    "from sklearn.metrics import roc_curve\n",
    "from sklearn.svm import SVC\n",
    "from sklearn.ensemble import RandomForestClassifier\n",
    "from datetime import datetime\n",
    "import math\n",
    "from google.colab import files\n",
    "\n",
    "uploaded = files.upload()"
   ]
  },
  {
   "cell_type": "code",
   "execution_count": 0,
   "metadata": {
    "colab": {
     "base_uri": "https://localhost:8080/",
     "height": 72
    },
    "colab_type": "code",
    "id": "6kcquLxt0LQf",
    "outputId": "921cbad8-ce0c-4486-e835-876c47108e08"
   },
   "outputs": [
    {
     "name": "stderr",
     "output_type": "stream",
     "text": [
      "/usr/local/lib/python3.6/dist-packages/IPython/core/interactiveshell.py:2718: DtypeWarning: Columns (19) have mixed types. Specify dtype option on import or set low_memory=False.\n",
      "  interactivity=interactivity, compiler=compiler, result=result)\n"
     ]
    }
   ],
   "source": [
    "#Read the data\n",
    "df = pd.read_csv('LoanStats3c.csv')\n",
    "df = df.drop(columns=['url'])"
   ]
  },
  {
   "cell_type": "markdown",
   "metadata": {
    "colab_type": "text",
    "id": "7rlK1_cb4-fi"
   },
   "source": [
    "# Data Overview"
   ]
  },
  {
   "cell_type": "code",
   "execution_count": 0,
   "metadata": {
    "colab": {
     "base_uri": "https://localhost:8080/",
     "height": 326
    },
    "colab_type": "code",
    "id": "YC_nSVdX3E4O",
    "outputId": "8c9cab2e-3852-47a2-b8ce-6884f3f4734d"
   },
   "outputs": [
    {
     "data": {
      "text/html": [
       "<div>\n",
       "<style scoped>\n",
       "    .dataframe tbody tr th:only-of-type {\n",
       "        vertical-align: middle;\n",
       "    }\n",
       "\n",
       "    .dataframe tbody tr th {\n",
       "        vertical-align: top;\n",
       "    }\n",
       "\n",
       "    .dataframe thead th {\n",
       "        text-align: right;\n",
       "    }\n",
       "</style>\n",
       "<table border=\"1\" class=\"dataframe\">\n",
       "  <thead>\n",
       "    <tr style=\"text-align: right;\">\n",
       "      <th></th>\n",
       "      <th>id</th>\n",
       "      <th>member_id</th>\n",
       "      <th>loan_amnt</th>\n",
       "      <th>funded_amnt</th>\n",
       "      <th>funded_amnt_inv</th>\n",
       "      <th>term</th>\n",
       "      <th>int_rate</th>\n",
       "      <th>installment</th>\n",
       "      <th>grade</th>\n",
       "      <th>sub_grade</th>\n",
       "      <th>emp_title</th>\n",
       "      <th>emp_length</th>\n",
       "      <th>home_ownership</th>\n",
       "      <th>annual_inc</th>\n",
       "      <th>is_inc_v</th>\n",
       "      <th>issue_d</th>\n",
       "      <th>loan_status</th>\n",
       "      <th>pymnt_plan</th>\n",
       "      <th>desc</th>\n",
       "      <th>purpose</th>\n",
       "      <th>title</th>\n",
       "      <th>zip_code</th>\n",
       "      <th>addr_state</th>\n",
       "      <th>dti</th>\n",
       "      <th>delinq_2yrs</th>\n",
       "      <th>earliest_cr_line</th>\n",
       "      <th>inq_last_6mths</th>\n",
       "      <th>mths_since_last_delinq</th>\n",
       "      <th>mths_since_last_record</th>\n",
       "      <th>open_acc</th>\n",
       "      <th>pub_rec</th>\n",
       "      <th>revol_bal</th>\n",
       "      <th>revol_util</th>\n",
       "      <th>total_acc</th>\n",
       "      <th>initial_list_status</th>\n",
       "      <th>out_prncp</th>\n",
       "      <th>out_prncp_inv</th>\n",
       "      <th>total_pymnt</th>\n",
       "      <th>total_pymnt_inv</th>\n",
       "      <th>total_rec_prncp</th>\n",
       "      <th>total_rec_int</th>\n",
       "      <th>total_rec_late_fee</th>\n",
       "      <th>recoveries</th>\n",
       "      <th>collection_recovery_fee</th>\n",
       "      <th>last_pymnt_d</th>\n",
       "      <th>last_pymnt_amnt</th>\n",
       "      <th>next_pymnt_d</th>\n",
       "      <th>last_credit_pull_d</th>\n",
       "      <th>collections_12_mths_ex_med</th>\n",
       "      <th>mths_since_last_major_derog</th>\n",
       "      <th>policy_code</th>\n",
       "    </tr>\n",
       "  </thead>\n",
       "  <tbody>\n",
       "    <tr>\n",
       "      <th>0</th>\n",
       "      <td>29003494</td>\n",
       "      <td>31526675</td>\n",
       "      <td>28000</td>\n",
       "      <td>28000</td>\n",
       "      <td>28000</td>\n",
       "      <td>36 months</td>\n",
       "      <td>7.12%</td>\n",
       "      <td>866.10</td>\n",
       "      <td>A</td>\n",
       "      <td>A3</td>\n",
       "      <td>attorney</td>\n",
       "      <td>5 years</td>\n",
       "      <td>MORTGAGE</td>\n",
       "      <td>324388.0</td>\n",
       "      <td>Verified</td>\n",
       "      <td>Sep-14</td>\n",
       "      <td>Current</td>\n",
       "      <td>n</td>\n",
       "      <td>NaN</td>\n",
       "      <td>home_improvement</td>\n",
       "      <td>Home improvement</td>\n",
       "      <td>331xx</td>\n",
       "      <td>FL</td>\n",
       "      <td>9.35</td>\n",
       "      <td>0</td>\n",
       "      <td>Aug-01</td>\n",
       "      <td>1</td>\n",
       "      <td>NaN</td>\n",
       "      <td>NaN</td>\n",
       "      <td>23</td>\n",
       "      <td>0</td>\n",
       "      <td>35236</td>\n",
       "      <td>38.70%</td>\n",
       "      <td>34</td>\n",
       "      <td>w</td>\n",
       "      <td>27300.03</td>\n",
       "      <td>27300.03</td>\n",
       "      <td>866.10</td>\n",
       "      <td>866.10</td>\n",
       "      <td>699.97</td>\n",
       "      <td>166.13</td>\n",
       "      <td>0.0</td>\n",
       "      <td>0.0</td>\n",
       "      <td>0.0</td>\n",
       "      <td>Nov-14</td>\n",
       "      <td>866.10</td>\n",
       "      <td>Nov-14</td>\n",
       "      <td>Oct-14</td>\n",
       "      <td>0</td>\n",
       "      <td>NaN</td>\n",
       "      <td>1</td>\n",
       "    </tr>\n",
       "    <tr>\n",
       "      <th>1</th>\n",
       "      <td>28913233</td>\n",
       "      <td>31436395</td>\n",
       "      <td>3000</td>\n",
       "      <td>3000</td>\n",
       "      <td>3000</td>\n",
       "      <td>36 months</td>\n",
       "      <td>11.67%</td>\n",
       "      <td>99.18</td>\n",
       "      <td>B</td>\n",
       "      <td>B4</td>\n",
       "      <td>Eligibility Worker II</td>\n",
       "      <td>6 years</td>\n",
       "      <td>MORTGAGE</td>\n",
       "      <td>41500.0</td>\n",
       "      <td>Not Verified</td>\n",
       "      <td>Sep-14</td>\n",
       "      <td>Current</td>\n",
       "      <td>n</td>\n",
       "      <td>NaN</td>\n",
       "      <td>other</td>\n",
       "      <td>Other</td>\n",
       "      <td>961xx</td>\n",
       "      <td>CA</td>\n",
       "      <td>26.55</td>\n",
       "      <td>0</td>\n",
       "      <td>Sep-99</td>\n",
       "      <td>1</td>\n",
       "      <td>NaN</td>\n",
       "      <td>NaN</td>\n",
       "      <td>12</td>\n",
       "      <td>0</td>\n",
       "      <td>11749</td>\n",
       "      <td>78.90%</td>\n",
       "      <td>29</td>\n",
       "      <td>w</td>\n",
       "      <td>2930.00</td>\n",
       "      <td>2930.00</td>\n",
       "      <td>99.18</td>\n",
       "      <td>99.18</td>\n",
       "      <td>70.00</td>\n",
       "      <td>29.18</td>\n",
       "      <td>0.0</td>\n",
       "      <td>0.0</td>\n",
       "      <td>0.0</td>\n",
       "      <td>Oct-14</td>\n",
       "      <td>99.18</td>\n",
       "      <td>Nov-14</td>\n",
       "      <td>Oct-14</td>\n",
       "      <td>0</td>\n",
       "      <td>NaN</td>\n",
       "      <td>1</td>\n",
       "    </tr>\n",
       "    <tr>\n",
       "      <th>2</th>\n",
       "      <td>27592013</td>\n",
       "      <td>30095159</td>\n",
       "      <td>18000</td>\n",
       "      <td>18000</td>\n",
       "      <td>18000</td>\n",
       "      <td>36 months</td>\n",
       "      <td>13.98%</td>\n",
       "      <td>615.03</td>\n",
       "      <td>C</td>\n",
       "      <td>C3</td>\n",
       "      <td>LABORATORY MANAGER</td>\n",
       "      <td>8 years</td>\n",
       "      <td>MORTGAGE</td>\n",
       "      <td>165000.0</td>\n",
       "      <td>Verified</td>\n",
       "      <td>Sep-14</td>\n",
       "      <td>Current</td>\n",
       "      <td>n</td>\n",
       "      <td>NaN</td>\n",
       "      <td>debt_consolidation</td>\n",
       "      <td>Debt consolidation</td>\n",
       "      <td>937xx</td>\n",
       "      <td>CA</td>\n",
       "      <td>27.36</td>\n",
       "      <td>0</td>\n",
       "      <td>Apr-89</td>\n",
       "      <td>0</td>\n",
       "      <td>27.0</td>\n",
       "      <td>NaN</td>\n",
       "      <td>15</td>\n",
       "      <td>0</td>\n",
       "      <td>15893</td>\n",
       "      <td>60%</td>\n",
       "      <td>50</td>\n",
       "      <td>f</td>\n",
       "      <td>17594.67</td>\n",
       "      <td>17594.67</td>\n",
       "      <td>615.03</td>\n",
       "      <td>615.03</td>\n",
       "      <td>405.33</td>\n",
       "      <td>209.70</td>\n",
       "      <td>0.0</td>\n",
       "      <td>0.0</td>\n",
       "      <td>0.0</td>\n",
       "      <td>Nov-14</td>\n",
       "      <td>615.03</td>\n",
       "      <td>Nov-14</td>\n",
       "      <td>Oct-14</td>\n",
       "      <td>0</td>\n",
       "      <td>27.0</td>\n",
       "      <td>1</td>\n",
       "    </tr>\n",
       "    <tr>\n",
       "      <th>3</th>\n",
       "      <td>28172444</td>\n",
       "      <td>30685592</td>\n",
       "      <td>15000</td>\n",
       "      <td>15000</td>\n",
       "      <td>15000</td>\n",
       "      <td>60 months</td>\n",
       "      <td>20.20%</td>\n",
       "      <td>399.08</td>\n",
       "      <td>E</td>\n",
       "      <td>E3</td>\n",
       "      <td>Housing Counselor</td>\n",
       "      <td>1 year</td>\n",
       "      <td>RENT</td>\n",
       "      <td>67000.0</td>\n",
       "      <td>Source Verified</td>\n",
       "      <td>Sep-14</td>\n",
       "      <td>Current</td>\n",
       "      <td>n</td>\n",
       "      <td>NaN</td>\n",
       "      <td>debt_consolidation</td>\n",
       "      <td>Debt consolidation</td>\n",
       "      <td>946xx</td>\n",
       "      <td>CA</td>\n",
       "      <td>8.90</td>\n",
       "      <td>0</td>\n",
       "      <td>Sep-86</td>\n",
       "      <td>1</td>\n",
       "      <td>70.0</td>\n",
       "      <td>65.0</td>\n",
       "      <td>11</td>\n",
       "      <td>1</td>\n",
       "      <td>1997</td>\n",
       "      <td>24.40%</td>\n",
       "      <td>58</td>\n",
       "      <td>f</td>\n",
       "      <td>14853.42</td>\n",
       "      <td>14853.42</td>\n",
       "      <td>399.08</td>\n",
       "      <td>399.08</td>\n",
       "      <td>146.58</td>\n",
       "      <td>252.50</td>\n",
       "      <td>0.0</td>\n",
       "      <td>0.0</td>\n",
       "      <td>0.0</td>\n",
       "      <td>Nov-14</td>\n",
       "      <td>399.08</td>\n",
       "      <td>Nov-14</td>\n",
       "      <td>Oct-14</td>\n",
       "      <td>0</td>\n",
       "      <td>70.0</td>\n",
       "      <td>1</td>\n",
       "    </tr>\n",
       "    <tr>\n",
       "      <th>4</th>\n",
       "      <td>20349337</td>\n",
       "      <td>22622030</td>\n",
       "      <td>23275</td>\n",
       "      <td>23275</td>\n",
       "      <td>23275</td>\n",
       "      <td>60 months</td>\n",
       "      <td>17.57%</td>\n",
       "      <td>585.61</td>\n",
       "      <td>D</td>\n",
       "      <td>D4</td>\n",
       "      <td>Process Improvement Officer</td>\n",
       "      <td>7 years</td>\n",
       "      <td>MORTGAGE</td>\n",
       "      <td>54264.0</td>\n",
       "      <td>Not Verified</td>\n",
       "      <td>Sep-14</td>\n",
       "      <td>Current</td>\n",
       "      <td>n</td>\n",
       "      <td>NaN</td>\n",
       "      <td>debt_consolidation</td>\n",
       "      <td>Debt consolidation</td>\n",
       "      <td>352xx</td>\n",
       "      <td>AL</td>\n",
       "      <td>33.02</td>\n",
       "      <td>0</td>\n",
       "      <td>Aug-02</td>\n",
       "      <td>0</td>\n",
       "      <td>57.0</td>\n",
       "      <td>NaN</td>\n",
       "      <td>11</td>\n",
       "      <td>0</td>\n",
       "      <td>18580</td>\n",
       "      <td>59.60%</td>\n",
       "      <td>23</td>\n",
       "      <td>w</td>\n",
       "      <td>23018.82</td>\n",
       "      <td>23018.82</td>\n",
       "      <td>585.61</td>\n",
       "      <td>585.61</td>\n",
       "      <td>256.18</td>\n",
       "      <td>329.43</td>\n",
       "      <td>0.0</td>\n",
       "      <td>0.0</td>\n",
       "      <td>0.0</td>\n",
       "      <td>Nov-14</td>\n",
       "      <td>585.61</td>\n",
       "      <td>Dec-14</td>\n",
       "      <td>Oct-14</td>\n",
       "      <td>0</td>\n",
       "      <td>57.0</td>\n",
       "      <td>1</td>\n",
       "    </tr>\n",
       "  </tbody>\n",
       "</table>\n",
       "</div>"
      ],
      "text/plain": [
       "         id  member_id  ...  mths_since_last_major_derog  policy_code\n",
       "0  29003494   31526675  ...                          NaN            1\n",
       "1  28913233   31436395  ...                          NaN            1\n",
       "2  27592013   30095159  ...                         27.0            1\n",
       "3  28172444   30685592  ...                         70.0            1\n",
       "4  20349337   22622030  ...                         57.0            1\n",
       "\n",
       "[5 rows x 51 columns]"
      ]
     },
     "execution_count": 11,
     "metadata": {
      "tags": []
     },
     "output_type": "execute_result"
    }
   ],
   "source": [
    "df.head()"
   ]
  },
  {
   "cell_type": "code",
   "execution_count": 0,
   "metadata": {
    "colab": {
     "base_uri": "https://localhost:8080/",
     "height": 314
    },
    "colab_type": "code",
    "id": "ellC-h-O3XxJ",
    "outputId": "cc41baae-bd96-4077-d65b-9ed1089b9b7e"
   },
   "outputs": [
    {
     "data": {
      "text/html": [
       "<div>\n",
       "<style scoped>\n",
       "    .dataframe tbody tr th:only-of-type {\n",
       "        vertical-align: middle;\n",
       "    }\n",
       "\n",
       "    .dataframe tbody tr th {\n",
       "        vertical-align: top;\n",
       "    }\n",
       "\n",
       "    .dataframe thead th {\n",
       "        text-align: right;\n",
       "    }\n",
       "</style>\n",
       "<table border=\"1\" class=\"dataframe\">\n",
       "  <thead>\n",
       "    <tr style=\"text-align: right;\">\n",
       "      <th></th>\n",
       "      <th>id</th>\n",
       "      <th>member_id</th>\n",
       "      <th>loan_amnt</th>\n",
       "      <th>funded_amnt</th>\n",
       "      <th>funded_amnt_inv</th>\n",
       "      <th>installment</th>\n",
       "      <th>annual_inc</th>\n",
       "      <th>dti</th>\n",
       "      <th>delinq_2yrs</th>\n",
       "      <th>inq_last_6mths</th>\n",
       "      <th>mths_since_last_delinq</th>\n",
       "      <th>mths_since_last_record</th>\n",
       "      <th>open_acc</th>\n",
       "      <th>pub_rec</th>\n",
       "      <th>revol_bal</th>\n",
       "      <th>total_acc</th>\n",
       "      <th>out_prncp</th>\n",
       "      <th>out_prncp_inv</th>\n",
       "      <th>total_pymnt</th>\n",
       "      <th>total_pymnt_inv</th>\n",
       "      <th>total_rec_prncp</th>\n",
       "      <th>total_rec_int</th>\n",
       "      <th>total_rec_late_fee</th>\n",
       "      <th>recoveries</th>\n",
       "      <th>collection_recovery_fee</th>\n",
       "      <th>last_pymnt_amnt</th>\n",
       "      <th>collections_12_mths_ex_med</th>\n",
       "      <th>mths_since_last_major_derog</th>\n",
       "      <th>policy_code</th>\n",
       "    </tr>\n",
       "  </thead>\n",
       "  <tbody>\n",
       "    <tr>\n",
       "      <th>count</th>\n",
       "      <td>1.612310e+05</td>\n",
       "      <td>1.612310e+05</td>\n",
       "      <td>161231.000000</td>\n",
       "      <td>161231.000000</td>\n",
       "      <td>161231.000000</td>\n",
       "      <td>161231.000000</td>\n",
       "      <td>1.612310e+05</td>\n",
       "      <td>161231.000000</td>\n",
       "      <td>161231.000000</td>\n",
       "      <td>161231.000000</td>\n",
       "      <td>81008.000000</td>\n",
       "      <td>28929.000000</td>\n",
       "      <td>161231.000000</td>\n",
       "      <td>161231.000000</td>\n",
       "      <td>1.612310e+05</td>\n",
       "      <td>161231.00000</td>\n",
       "      <td>161231.000000</td>\n",
       "      <td>161231.000000</td>\n",
       "      <td>161231.000000</td>\n",
       "      <td>161231.000000</td>\n",
       "      <td>161231.000000</td>\n",
       "      <td>161231.000000</td>\n",
       "      <td>161231.000000</td>\n",
       "      <td>161231.000000</td>\n",
       "      <td>161231.000000</td>\n",
       "      <td>161231.000000</td>\n",
       "      <td>161231.000000</td>\n",
       "      <td>45175.000000</td>\n",
       "      <td>161231.0</td>\n",
       "    </tr>\n",
       "    <tr>\n",
       "      <th>mean</th>\n",
       "      <td>1.707150e+07</td>\n",
       "      <td>1.909621e+07</td>\n",
       "      <td>14864.642190</td>\n",
       "      <td>14864.642190</td>\n",
       "      <td>14858.829723</td>\n",
       "      <td>446.003881</td>\n",
       "      <td>7.525850e+04</td>\n",
       "      <td>17.685653</td>\n",
       "      <td>0.341609</td>\n",
       "      <td>0.833078</td>\n",
       "      <td>33.436759</td>\n",
       "      <td>71.541706</td>\n",
       "      <td>11.632620</td>\n",
       "      <td>0.224324</td>\n",
       "      <td>1.603433e+04</td>\n",
       "      <td>26.09554</td>\n",
       "      <td>12866.628505</td>\n",
       "      <td>12861.717114</td>\n",
       "      <td>2804.559524</td>\n",
       "      <td>2803.318488</td>\n",
       "      <td>1963.716128</td>\n",
       "      <td>840.749180</td>\n",
       "      <td>0.033618</td>\n",
       "      <td>0.060596</td>\n",
       "      <td>0.000606</td>\n",
       "      <td>974.164228</td>\n",
       "      <td>0.014191</td>\n",
       "      <td>43.363475</td>\n",
       "      <td>1.0</td>\n",
       "    </tr>\n",
       "    <tr>\n",
       "      <th>std</th>\n",
       "      <td>5.098057e+06</td>\n",
       "      <td>5.402435e+06</td>\n",
       "      <td>8412.637516</td>\n",
       "      <td>8412.637516</td>\n",
       "      <td>8409.342582</td>\n",
       "      <td>245.922837</td>\n",
       "      <td>5.740734e+04</td>\n",
       "      <td>7.733079</td>\n",
       "      <td>0.891854</td>\n",
       "      <td>1.094065</td>\n",
       "      <td>21.866078</td>\n",
       "      <td>28.736096</td>\n",
       "      <td>5.175382</td>\n",
       "      <td>0.608610</td>\n",
       "      <td>1.937634e+04</td>\n",
       "      <td>11.73985</td>\n",
       "      <td>8164.581264</td>\n",
       "      <td>8161.674996</td>\n",
       "      <td>3541.682185</td>\n",
       "      <td>3540.075647</td>\n",
       "      <td>3293.447356</td>\n",
       "      <td>777.945894</td>\n",
       "      <td>1.034395</td>\n",
       "      <td>12.659022</td>\n",
       "      <td>0.126590</td>\n",
       "      <td>2996.476958</td>\n",
       "      <td>0.135941</td>\n",
       "      <td>22.153984</td>\n",
       "      <td>0.0</td>\n",
       "    </tr>\n",
       "    <tr>\n",
       "      <th>min</th>\n",
       "      <td>5.716700e+04</td>\n",
       "      <td>1.372250e+05</td>\n",
       "      <td>1000.000000</td>\n",
       "      <td>1000.000000</td>\n",
       "      <td>950.000000</td>\n",
       "      <td>23.360000</td>\n",
       "      <td>3.000000e+03</td>\n",
       "      <td>0.000000</td>\n",
       "      <td>0.000000</td>\n",
       "      <td>0.000000</td>\n",
       "      <td>0.000000</td>\n",
       "      <td>0.000000</td>\n",
       "      <td>0.000000</td>\n",
       "      <td>0.000000</td>\n",
       "      <td>0.000000e+00</td>\n",
       "      <td>2.00000</td>\n",
       "      <td>0.000000</td>\n",
       "      <td>0.000000</td>\n",
       "      <td>0.000000</td>\n",
       "      <td>0.000000</td>\n",
       "      <td>0.000000</td>\n",
       "      <td>0.000000</td>\n",
       "      <td>0.000000</td>\n",
       "      <td>0.000000</td>\n",
       "      <td>0.000000</td>\n",
       "      <td>0.000000</td>\n",
       "      <td>0.000000</td>\n",
       "      <td>0.000000</td>\n",
       "      <td>1.0</td>\n",
       "    </tr>\n",
       "    <tr>\n",
       "      <th>25%</th>\n",
       "      <td>1.263675e+07</td>\n",
       "      <td>1.455757e+07</td>\n",
       "      <td>8400.000000</td>\n",
       "      <td>8400.000000</td>\n",
       "      <td>8400.000000</td>\n",
       "      <td>267.790000</td>\n",
       "      <td>4.600000e+04</td>\n",
       "      <td>11.890000</td>\n",
       "      <td>0.000000</td>\n",
       "      <td>0.000000</td>\n",
       "      <td>15.000000</td>\n",
       "      <td>50.000000</td>\n",
       "      <td>8.000000</td>\n",
       "      <td>0.000000</td>\n",
       "      <td>6.323000e+03</td>\n",
       "      <td>18.00000</td>\n",
       "      <td>6721.390000</td>\n",
       "      <td>6719.815000</td>\n",
       "      <td>1014.270000</td>\n",
       "      <td>1013.825000</td>\n",
       "      <td>609.860000</td>\n",
       "      <td>304.595000</td>\n",
       "      <td>0.000000</td>\n",
       "      <td>0.000000</td>\n",
       "      <td>0.000000</td>\n",
       "      <td>274.695000</td>\n",
       "      <td>0.000000</td>\n",
       "      <td>26.000000</td>\n",
       "      <td>1.0</td>\n",
       "    </tr>\n",
       "    <tr>\n",
       "      <th>50%</th>\n",
       "      <td>1.628156e+07</td>\n",
       "      <td>1.828417e+07</td>\n",
       "      <td>13000.000000</td>\n",
       "      <td>13000.000000</td>\n",
       "      <td>13000.000000</td>\n",
       "      <td>387.240000</td>\n",
       "      <td>6.500000e+04</td>\n",
       "      <td>17.360000</td>\n",
       "      <td>0.000000</td>\n",
       "      <td>0.000000</td>\n",
       "      <td>30.000000</td>\n",
       "      <td>70.000000</td>\n",
       "      <td>11.000000</td>\n",
       "      <td>0.000000</td>\n",
       "      <td>1.160700e+04</td>\n",
       "      <td>24.00000</td>\n",
       "      <td>11416.080000</td>\n",
       "      <td>11416.080000</td>\n",
       "      <td>1871.760000</td>\n",
       "      <td>1871.650000</td>\n",
       "      <td>1120.740000</td>\n",
       "      <td>596.540000</td>\n",
       "      <td>0.000000</td>\n",
       "      <td>0.000000</td>\n",
       "      <td>0.000000</td>\n",
       "      <td>402.570000</td>\n",
       "      <td>0.000000</td>\n",
       "      <td>43.000000</td>\n",
       "      <td>1.0</td>\n",
       "    </tr>\n",
       "    <tr>\n",
       "      <th>75%</th>\n",
       "      <td>2.101974e+07</td>\n",
       "      <td>2.329278e+07</td>\n",
       "      <td>20000.000000</td>\n",
       "      <td>20000.000000</td>\n",
       "      <td>20000.000000</td>\n",
       "      <td>585.390000</td>\n",
       "      <td>9.000000e+04</td>\n",
       "      <td>23.320000</td>\n",
       "      <td>0.000000</td>\n",
       "      <td>1.000000</td>\n",
       "      <td>49.000000</td>\n",
       "      <td>100.000000</td>\n",
       "      <td>14.000000</td>\n",
       "      <td>0.000000</td>\n",
       "      <td>2.020950e+04</td>\n",
       "      <td>33.00000</td>\n",
       "      <td>17884.720000</td>\n",
       "      <td>17876.160000</td>\n",
       "      <td>3272.010000</td>\n",
       "      <td>3271.485000</td>\n",
       "      <td>1996.775000</td>\n",
       "      <td>1111.970000</td>\n",
       "      <td>0.000000</td>\n",
       "      <td>0.000000</td>\n",
       "      <td>0.000000</td>\n",
       "      <td>623.880000</td>\n",
       "      <td>0.000000</td>\n",
       "      <td>60.000000</td>\n",
       "      <td>1.0</td>\n",
       "    </tr>\n",
       "    <tr>\n",
       "      <th>max</th>\n",
       "      <td>2.900349e+07</td>\n",
       "      <td>3.152668e+07</td>\n",
       "      <td>35000.000000</td>\n",
       "      <td>35000.000000</td>\n",
       "      <td>35000.000000</td>\n",
       "      <td>1409.990000</td>\n",
       "      <td>7.500000e+06</td>\n",
       "      <td>39.990000</td>\n",
       "      <td>22.000000</td>\n",
       "      <td>6.000000</td>\n",
       "      <td>188.000000</td>\n",
       "      <td>121.000000</td>\n",
       "      <td>76.000000</td>\n",
       "      <td>63.000000</td>\n",
       "      <td>1.190046e+06</td>\n",
       "      <td>121.00000</td>\n",
       "      <td>35000.000000</td>\n",
       "      <td>35000.000000</td>\n",
       "      <td>40380.500000</td>\n",
       "      <td>40380.500000</td>\n",
       "      <td>35000.000000</td>\n",
       "      <td>6602.910000</td>\n",
       "      <td>100.380000</td>\n",
       "      <td>4278.150000</td>\n",
       "      <td>42.781500</td>\n",
       "      <td>35757.360000</td>\n",
       "      <td>20.000000</td>\n",
       "      <td>188.000000</td>\n",
       "      <td>1.0</td>\n",
       "    </tr>\n",
       "  </tbody>\n",
       "</table>\n",
       "</div>"
      ],
      "text/plain": [
       "                 id     member_id  ...  mths_since_last_major_derog  policy_code\n",
       "count  1.612310e+05  1.612310e+05  ...                 45175.000000     161231.0\n",
       "mean   1.707150e+07  1.909621e+07  ...                    43.363475          1.0\n",
       "std    5.098057e+06  5.402435e+06  ...                    22.153984          0.0\n",
       "min    5.716700e+04  1.372250e+05  ...                     0.000000          1.0\n",
       "25%    1.263675e+07  1.455757e+07  ...                    26.000000          1.0\n",
       "50%    1.628156e+07  1.828417e+07  ...                    43.000000          1.0\n",
       "75%    2.101974e+07  2.329278e+07  ...                    60.000000          1.0\n",
       "max    2.900349e+07  3.152668e+07  ...                   188.000000          1.0\n",
       "\n",
       "[8 rows x 29 columns]"
      ]
     },
     "execution_count": 12,
     "metadata": {
      "tags": []
     },
     "output_type": "execute_result"
    }
   ],
   "source": [
    "df.describe()"
   ]
  },
  {
   "cell_type": "code",
   "execution_count": 0,
   "metadata": {
    "colab": {
     "base_uri": "https://localhost:8080/",
     "height": 988
    },
    "colab_type": "code",
    "id": "taFyv5iw3fbW",
    "outputId": "f238d4c3-66cc-475e-d532-28e9bb95a089"
   },
   "outputs": [
    {
     "name": "stdout",
     "output_type": "stream",
     "text": [
      "<class 'pandas.core.frame.DataFrame'>\n",
      "RangeIndex: 161231 entries, 0 to 161230\n",
      "Data columns (total 51 columns):\n",
      "id                             161231 non-null int64\n",
      "member_id                      161231 non-null int64\n",
      "loan_amnt                      161231 non-null int64\n",
      "funded_amnt                    161231 non-null int64\n",
      "funded_amnt_inv                161231 non-null int64\n",
      "term                           161231 non-null object\n",
      "int_rate                       161231 non-null object\n",
      "installment                    161231 non-null float64\n",
      "grade                          161231 non-null object\n",
      "sub_grade                      161231 non-null object\n",
      "emp_title                      152048 non-null object\n",
      "emp_length                     153250 non-null object\n",
      "home_ownership                 161231 non-null object\n",
      "annual_inc                     161231 non-null float64\n",
      "is_inc_v                       161231 non-null object\n",
      "issue_d                        161231 non-null object\n",
      "loan_status                    161231 non-null object\n",
      "pymnt_plan                     161231 non-null object\n",
      "desc                           15197 non-null object\n",
      "purpose                        161231 non-null object\n",
      "title                          161231 non-null object\n",
      "zip_code                       161231 non-null object\n",
      "addr_state                     161231 non-null object\n",
      "dti                            161231 non-null float64\n",
      "delinq_2yrs                    161231 non-null int64\n",
      "earliest_cr_line               161231 non-null object\n",
      "inq_last_6mths                 161231 non-null int64\n",
      "mths_since_last_delinq         81008 non-null float64\n",
      "mths_since_last_record         28929 non-null float64\n",
      "open_acc                       161231 non-null int64\n",
      "pub_rec                        161231 non-null int64\n",
      "revol_bal                      161231 non-null int64\n",
      "revol_util                     161147 non-null object\n",
      "total_acc                      161231 non-null int64\n",
      "initial_list_status            161231 non-null object\n",
      "out_prncp                      161231 non-null float64\n",
      "out_prncp_inv                  161231 non-null float64\n",
      "total_pymnt                    161231 non-null float64\n",
      "total_pymnt_inv                161231 non-null float64\n",
      "total_rec_prncp                161231 non-null float64\n",
      "total_rec_int                  161231 non-null float64\n",
      "total_rec_late_fee             161231 non-null float64\n",
      "recoveries                     161231 non-null float64\n",
      "collection_recovery_fee        161231 non-null float64\n",
      "last_pymnt_d                   161120 non-null object\n",
      "last_pymnt_amnt                161231 non-null float64\n",
      "next_pymnt_d                   153909 non-null object\n",
      "last_credit_pull_d             161218 non-null object\n",
      "collections_12_mths_ex_med     161231 non-null int64\n",
      "mths_since_last_major_derog    45175 non-null float64\n",
      "policy_code                    161231 non-null int64\n",
      "dtypes: float64(16), int64(13), object(22)\n",
      "memory usage: 62.7+ MB\n"
     ]
    }
   ],
   "source": [
    "df.info()"
   ]
  },
  {
   "cell_type": "markdown",
   "metadata": {
    "colab_type": "text",
    "id": "x9gRD4Vg4wV0"
   },
   "source": [
    "# Data Exploration"
   ]
  },
  {
   "cell_type": "markdown",
   "metadata": {
    "colab_type": "text",
    "id": "WI3Vpr9WDRn1"
   },
   "source": [
    "Let's see all the loans status and their quantity:"
   ]
  },
  {
   "cell_type": "code",
   "execution_count": 0,
   "metadata": {
    "colab": {
     "base_uri": "https://localhost:8080/",
     "height": 191
    },
    "colab_type": "code",
    "id": "upNDSQd_93DV",
    "outputId": "6cbe5af7-1940-47e3-e47e-f1cffe6ccf9e"
   },
   "outputs": [
    {
     "data": {
      "text/plain": [
       "loan_status\n",
       "Charged Off              400\n",
       "Current               151208\n",
       "Default                   76\n",
       "Fully Paid              6922\n",
       "In Grace Period          853\n",
       "Issued                     1\n",
       "Late (16-30 days)        409\n",
       "Late (31-120 days)      1362\n",
       "Name: id, dtype: int64"
      ]
     },
     "execution_count": 14,
     "metadata": {
      "tags": []
     },
     "output_type": "execute_result"
    }
   ],
   "source": [
    "df.groupby('loan_status').count()['id']"
   ]
  },
  {
   "cell_type": "markdown",
   "metadata": {
    "colab_type": "text",
    "id": "PMUG8tWD_Qni"
   },
   "source": [
    "Like we can see we only have 76 instances of 'Default' loans. This is very few, and these instances are important. What I would do is use something like **xgboost** to try to solve this"
   ]
  },
  {
   "cell_type": "markdown",
   "metadata": {
    "colab_type": "text",
    "id": "EoWWgas76HVr"
   },
   "source": [
    "Adding 'debt burden' column, calculated by the monthly payment of the requested loan + other monthly debt payments divided by monthly income:"
   ]
  },
  {
   "cell_type": "code",
   "execution_count": 0,
   "metadata": {
    "colab": {},
    "colab_type": "code",
    "id": "6d9MizWk6dHi"
   },
   "outputs": [],
   "source": [
    "debt_burden = (df['installment'] / (df['annual_inc'] / 12)) + (df['dti']/100.0)\n",
    "df['debt_burden'] = debt_burden"
   ]
  },
  {
   "cell_type": "markdown",
   "metadata": {
    "colab_type": "text",
    "id": "zl60r2886z_7"
   },
   "source": [
    "Let's get some insigts from the debt burden information of the borrowers:"
   ]
  },
  {
   "cell_type": "code",
   "execution_count": 0,
   "metadata": {
    "colab": {
     "base_uri": "https://localhost:8080/",
     "height": 391
    },
    "colab_type": "code",
    "id": "eebsd52P7AUQ",
    "outputId": "66480688-dfe1-4c58-dc1f-a93cfe76d55b"
   },
   "outputs": [
    {
     "data": {
      "image/png": "[encoded data removed]",
      "text/plain": [
       "<Figure size 432x288 with 1 Axes>"
      ]
     },
     "metadata": {
      "tags": []
     },
     "output_type": "display_data"
    },
    {
     "name": "stdout",
     "output_type": "stream",
     "text": [
      "mean: 0.2573251121904496\n",
      "median: 0.2540416\n",
      "max: 0.5862\n",
      "std: 0.0952207475547505\n",
      "90 percentile: 0.385544\n",
      "10 percentile: 0.13380263736263737\n",
      "Number of people with 40% or more debt payment from income: 12087\n"
     ]
    }
   ],
   "source": [
    "# Plotting the distribution of loan amount taken\n",
    "sns.distplot(debt_burden)\n",
    "plt.legend(['debt_burden'])\n",
    "plt.show()\n",
    "print(\"mean:\", debt_burden.mean())\n",
    "print(\"median:\", debt_burden.median())\n",
    "print(\"max:\", max(debt_burden))\n",
    "print(\"std:\", debt_burden.std())\n",
    "\n",
    "# Getting the outliers\n",
    "debt_burden_arr = np.array(debt_burden)\n",
    "print(\"90 percentile:\", np.percentile(debt_burden_arr, 90))\n",
    "print(\"10 percentile:\", np.percentile(debt_burden_arr, 10))\n",
    "\n",
    "# How many people with more that 40% burden?\n",
    "print(\"Number of people with 40% or more debt payment from income:\", len(df[debt_burden >= 0.4]))"
   ]
  },
  {
   "cell_type": "markdown",
   "metadata": {
    "colab_type": "text",
    "id": "xkWnjsTL8V34"
   },
   "source": [
    "We see somthing very close to a normal distribution around 0.25 level of debt payment to income"
   ]
  },
  {
   "cell_type": "markdown",
   "metadata": {
    "colab_type": "text",
    "id": "kr4KduMkCwTq"
   },
   "source": [
    "**Now let's compare the debt burden of the good loans to the bad loans:**"
   ]
  },
  {
   "cell_type": "code",
   "execution_count": 0,
   "metadata": {
    "colab": {
     "base_uri": "https://localhost:8080/",
     "height": 304
    },
    "colab_type": "code",
    "id": "IStgSXYe1Muc",
    "outputId": "3a534804-9b39-4c7b-b6eb-d018f095fd5c"
   },
   "outputs": [
    {
     "data": {
      "image/png": "[encoded data removed]",
      "text/plain": [
       "<Figure size 432x288 with 1 Axes>"
      ]
     },
     "metadata": {
      "tags": []
     },
     "output_type": "display_data"
    },
    {
     "name": "stdout",
     "output_type": "stream",
     "text": [
      "mean: 0.23573721362187594\n",
      "skew: 0.2148416874725997\n"
     ]
    }
   ],
   "source": [
    "df_good_loans = df[df['loan_status'] == 'Fully Paid']\n",
    "\n",
    "sns.distplot(np.array(df_good_loans['debt_burden']))\n",
    "plt.legend(['debt_burden_good_loans'])\n",
    "plt.show()\n",
    "\n",
    "print(\"mean:\", df_good_loans['debt_burden'].mean())\n",
    "print(\"skew:\", df_good_loans['debt_burden'].skew())"
   ]
  },
  {
   "cell_type": "code",
   "execution_count": 0,
   "metadata": {
    "colab": {
     "base_uri": "https://localhost:8080/",
     "height": 304
    },
    "colab_type": "code",
    "id": "5Z8w7Fg2B85r",
    "outputId": "4d6d5b15-537b-4e9a-eba4-c6f67ce43da1"
   },
   "outputs": [
    {
     "data": {
      "image/png": "[encoded data removed]",
      "text/plain": [
       "<Figure size 432x288 with 1 Axes>"
      ]
     },
     "metadata": {
      "tags": []
     },
     "output_type": "display_data"
    },
    {
     "name": "stdout",
     "output_type": "stream",
     "text": [
      "mean: 0.27312447725022293\n",
      "skew: -0.08930977669025938\n"
     ]
    }
   ],
   "source": [
    "df['debt_burden'] = debt_burden_arr\n",
    "df_bad_loans = df[(df['loan_status'] == 'Default') | (df['loan_status'] == \n",
    "                                                      'Late (16-30 days)') | \n",
    "                  (df['loan_status'] == 'Late (31-120 days)') |\n",
    "                 ((df['loan_status'] == 'Charged Off'))]\n",
    "\n",
    "sns.distplot(np.array(df_bad_loans['debt_burden']))\n",
    "plt.legend(['debt_burden_bad_loans'])\n",
    "plt.show()\n",
    "\n",
    "print(\"mean:\", df_bad_loans['debt_burden'].mean())\n",
    "print(\"skew:\", df_bad_loans['debt_burden'].skew())"
   ]
  },
  {
   "cell_type": "markdown",
   "metadata": {
    "colab_type": "text",
    "id": "PkFo8SITBtZr"
   },
   "source": [
    "We can see how the distribution of debt burden among bad loans has negative skew where the good lans has a positive skew, and also the average debt burden for the good loans is greater"
   ]
  },
  {
   "cell_type": "markdown",
   "metadata": {
    "colab_type": "text",
    "id": "c2BWHsp4Cxel"
   },
   "source": [
    "**Let's check what are the purposes of the loans for the good and the bad one after we classify the purpose of the loan feature for four categories:**\n",
    "\n",
    "---\n",
    "\n"
   ]
  },
  {
   "cell_type": "code",
   "execution_count": 0,
   "metadata": {
    "colab": {},
    "colab_type": "code",
    "id": "IP0HHYBjGcmu"
   },
   "outputs": [],
   "source": [
    "df['title'] = [s.lower() for s in df['title']]"
   ]
  },
  {
   "cell_type": "code",
   "execution_count": 0,
   "metadata": {
    "colab": {
     "base_uri": "https://localhost:8080/",
     "height": 208
    },
    "colab_type": "code",
    "id": "kIbpKoJiItB3",
    "outputId": "926a32a7-5cc6-4e9e-e21f-78b4bf922f95"
   },
   "outputs": [
    {
     "data": {
      "text/plain": [
       "debt consolidation         94932\n",
       "credit card refinancing    37557\n",
       "home improvement            9217\n",
       "other                       6717\n",
       "major purchase              2625\n",
       "medical expenses            1615\n",
       "business                    1577\n",
       "car financing               1238\n",
       "moving and relocation        872\n",
       "vacation                     829\n",
       "Name: title, dtype: int64"
      ]
     },
     "execution_count": 42,
     "metadata": {
      "tags": []
     },
     "output_type": "execute_result"
    }
   ],
   "source": [
    "df['title'].value_counts()[:10]"
   ]
  },
  {
   "cell_type": "code",
   "execution_count": 0,
   "metadata": {
    "colab": {},
    "colab_type": "code",
    "id": "WCAD4usnzyt_"
   },
   "outputs": [],
   "source": [
    "# Map items strings to groups according to our logic: each title that contains\n",
    "# 'debt', 'credit' or 'consolidation' goes to 'DEBT' group. \n",
    "# Each title that contains 'home' or related to home goes to 'HOME' group. \n",
    "# Another group for cars and another for all the rest:\n",
    "\n",
    "def title_mapper(title):\n",
    "  if 'home' in title or 'house' in title or 'lawn' in title or 'heat' in title:\n",
    "      return 'home'\n",
    "  elif 'debt' in title or 'consolid' in title or 'consulid' in title or 'credit' in title or 'cc' in title:\n",
    "    return 'repay_debt'\n",
    "  elif 'car' in title or 'truck' in title or 'vehicle' in title:\n",
    "    return 'car'\n",
    "  else:\n",
    "    return 'else'"
   ]
  },
  {
   "cell_type": "markdown",
   "metadata": {
    "colab_type": "text",
    "id": "ZI2IYnRnOc70"
   },
   "source": [
    "**Note about this mapper:** this is a primitive mapper, we can do advanced work on it, as I will explain later"
   ]
  },
  {
   "cell_type": "code",
   "execution_count": 0,
   "metadata": {
    "colab": {},
    "colab_type": "code",
    "id": "9oSvncWTOCpr"
   },
   "outputs": [],
   "source": [
    "df['title'] = list(map(title_mapper, df['title']))"
   ]
  },
  {
   "cell_type": "code",
   "execution_count": 0,
   "metadata": {
    "colab": {
     "base_uri": "https://localhost:8080/",
     "height": 342
    },
    "colab_type": "code",
    "id": "955p52CdPZSz",
    "outputId": "8be92372-d717-40ce-e361-c00b019201e6"
   },
   "outputs": [
    {
     "name": "stdout",
     "output_type": "stream",
     "text": [
      "repay_debt    134442\n",
      "else           15597\n",
      "home            9863\n",
      "car             1329\n",
      "Name: title, dtype: int64\n"
     ]
    },
    {
     "data": {
      "image/png": "[encoded data removed]",
      "text/plain": [
       "<Figure size 432x288 with 1 Axes>"
      ]
     },
     "metadata": {
      "tags": []
     },
     "output_type": "display_data"
    }
   ],
   "source": [
    "title_val_count = df['title'].value_counts()\n",
    "print(title_val_count)\n",
    "\n",
    "# Data to plot\n",
    "labels = 'repay_debt', 'else', 'home', 'car'\n",
    "colors = ['yellowgreen', 'lightcoral', 'lightskyblue', 'red']\n",
    "\n",
    "# Plot\n",
    "plt.pie(title_val_count, labels=labels, colors=colors,\n",
    "autopct='%1.1f%%', shadow=True, startangle=140)\n",
    "\n",
    "plt.axis('equal')\n",
    "plt.show()"
   ]
  },
  {
   "cell_type": "markdown",
   "metadata": {
    "colab_type": "text",
    "id": "SMxQV65cUi21"
   },
   "source": [
    "Like we can see, repay debt purpose is the majority among loan purposes"
   ]
  },
  {
   "cell_type": "markdown",
   "metadata": {
    "colab_type": "text",
    "id": "Z_ZwnZC5ODFL"
   },
   "source": [
    "**Number of inquieries by creditors in the last six months:**"
   ]
  },
  {
   "cell_type": "code",
   "execution_count": 0,
   "metadata": {
    "colab": {
     "base_uri": "https://localhost:8080/",
     "height": 156
    },
    "colab_type": "code",
    "id": "7kC9bhrrSs9g",
    "outputId": "531a2d4c-cd4b-4a20-c327-153feaed3bac"
   },
   "outputs": [
    {
     "data": {
      "text/plain": [
       "0    81745\n",
       "1    45381\n",
       "2    20489\n",
       "3     8654\n",
       "4     3278\n",
       "5     1219\n",
       "6      465\n",
       "Name: inq_last_6mths, dtype: int64"
      ]
     },
     "execution_count": 40,
     "metadata": {
      "tags": []
     },
     "output_type": "execute_result"
    }
   ],
   "source": [
    "df['inq_last_6mths'].value_counts()"
   ]
  },
  {
   "cell_type": "markdown",
   "metadata": {
    "colab_type": "text",
    "id": "9TtguEJ8TS8V"
   },
   "source": [
    "Let's look at the porportion of bad loans (default + late) group by the number of inquiries by creditors during the last 6 months ('inq_last_6mths'):"
   ]
  },
  {
   "cell_type": "code",
   "execution_count": 0,
   "metadata": {
    "colab": {
     "base_uri": "https://localhost:8080/",
     "height": 477
    },
    "colab_type": "code",
    "id": "XmZPaY2dQ7l9",
    "outputId": "8bcdd008-a5bd-4dc7-be09-5a48f95d7638"
   },
   "outputs": [
    {
     "name": "stdout",
     "output_type": "stream",
     "text": [
      "0    0.208899\n",
      "1    0.220258\n",
      "2    0.248756\n",
      "3    0.267717\n",
      "4    0.230241\n",
      "5    0.218487\n",
      "6    0.322581\n",
      "Name: inq_last_6mths, dtype: float64\n",
      "\n",
      "\n",
      "Number of inquiries(x) and the proportion of the bad loans(y)\n"
     ]
    },
    {
     "data": {
      "text/plain": [
       "[]"
      ]
     },
     "execution_count": 88,
     "metadata": {
      "tags": []
     },
     "output_type": "execute_result"
    },
    {
     "data": {
      "image/png": "[encoded data removed]",
      "text/plain": [
       "<Figure size 432x288 with 1 Axes>"
      ]
     },
     "metadata": {
      "tags": []
     },
     "output_type": "display_data"
    }
   ],
   "source": [
    "df_bad_loans = df[(df['loan_status'] == 'Default') | (df['loan_status'] == 'Late (16-30 days)') | (df['loan_status'] == 'Late (31-120 days)') |\n",
    "                 (df['loan_status'] == 'Charged Off')]\n",
    "prop_bad_inq = df_bad_loans['inq_last_6mths'].value_counts() /df[df['loan_status'] != 'Current']['inq_last_6mths'].value_counts()\n",
    "print(prop_bad_inq)\n",
    "print()\n",
    "print()\n",
    "print(\"Number of inquiries(x) and the proportion of the bad loans(y)\")\n",
    "fig = plt.figure()\n",
    "ax = sns.regplot(x=np.array(prop_bad_inq.keys()), y=np.array(prop_bad_inq.values))\n",
    "ax.plot()"
   ]
  },
  {
   "cell_type": "markdown",
   "metadata": {
    "colab_type": "text",
    "id": "59ACawl3ThRX"
   },
   "source": [
    "In this graph we can see the positive connection between the number of inquiries by creditors and the proportion of the bad loans out of all finished loans"
   ]
  },
  {
   "cell_type": "markdown",
   "metadata": {
    "colab_type": "text",
    "id": "owSo1ll83i-g"
   },
   "source": [
    "Also we'll present the ratio of the fully paid borrowers out of the total **for each grade**: (without currents)\n",
    "\n"
   ]
  },
  {
   "cell_type": "code",
   "execution_count": 0,
   "metadata": {
    "colab": {},
    "colab_type": "code",
    "id": "nhlsW_eAC--S"
   },
   "outputs": [],
   "source": [
    "# Filter only to Fully Paid status and then group by grade and count\n",
    "fully_paid = df[df['loan_status'] == 'Fully Paid']\n",
    "fully_paid_by_grade = fully_paid.groupby('grade').count()\n",
    "\n",
    "# Let's count the total (anything but current loans) for each grade and count\n",
    "df_no_curr = df[df['loan_status'] != 'Current']\n",
    "df_no_curr_by_grade = df_no_curr.groupby('grade').count()\n",
    "\n",
    "# Get the ratio of count of each status when fully paid and count of each status total except current \n",
    "fully_paid_by_grade['ratio'] = fully_paid_by_grade['id'] / df_no_curr_by_grade['id']"
   ]
  },
  {
   "cell_type": "code",
   "execution_count": 0,
   "metadata": {
    "colab": {
     "base_uri": "https://localhost:8080/",
     "height": 299
    },
    "colab_type": "code",
    "id": "Bj9t9eCAJl9i",
    "outputId": "da229803-624a-4e54-d741-5ec88f933a5b"
   },
   "outputs": [
    {
     "data": {
      "text/plain": [
       "<matplotlib.axes._subplots.AxesSubplot at 0x7fb4a55fa0f0>"
      ]
     },
     "execution_count": 79,
     "metadata": {
      "tags": []
     },
     "output_type": "execute_result"
    },
    {
     "data": {
      "image/png": "[encoded data removed]",
      "text/plain": [
       "<Figure size 432x288 with 1 Axes>"
      ]
     },
     "metadata": {
      "tags": []
     },
     "output_type": "display_data"
    }
   ],
   "source": [
    "fully_paid_by_grade.plot.bar(y='ratio')"
   ]
  },
  {
   "cell_type": "markdown",
   "metadata": {
    "colab_type": "text",
    "id": "YEBf7jmUOM4s"
   },
   "source": [
    "What's interesting that G rating has better 'success rate' than F, when G pays greater interest rates, but we need to take into account that we have very few observations for those statuses"
   ]
  },
  {
   "cell_type": "markdown",
   "metadata": {
    "colab_type": "text",
    "id": "MZbnfeePhkdD"
   },
   "source": [
    "# Feature Modification\n",
    "\n",
    "---"
   ]
  },
  {
   "cell_type": "code",
   "execution_count": 0,
   "metadata": {
    "colab": {},
    "colab_type": "code",
    "id": "RsjusV5D73yz"
   },
   "outputs": [],
   "source": [
    "# Since I see that the revolving util only has very small proportion of null \n",
    "# values I will fill the missing values with the average of the rest \n",
    "\n",
    "def rev_to_float(s):\n",
    "    try:\n",
    "      return float(s.replace('%', ''))/100.0\n",
    "    except AttributeError:\n",
    "      return np.nan\n",
    "df['revol_util'] = [rev_to_float(s) for s in df['revol_util']]\n",
    "rev_util_mean = df['revol_util'].mean()\n",
    "df['revol_util'] = df['revol_util'].fillna(rev_util_mean)"
   ]
  },
  {
   "cell_type": "markdown",
   "metadata": {
    "colab_type": "text",
    "id": "e92EjzolUpyr"
   },
   "source": [
    "Casting features that need to be numbers and not strings:"
   ]
  },
  {
   "cell_type": "code",
   "execution_count": 0,
   "metadata": {
    "colab": {},
    "colab_type": "code",
    "id": "e3wENkNIUofK"
   },
   "outputs": [],
   "source": [
    "# Removing all non-numeric chars and cast to float\n",
    "def str_to_float(s):\n",
    "    if not isinstance(s, str):\n",
    "      return np.nan\n",
    "    return float(re.sub(\"[^0-9.]\", \"\", s))  \n",
    "df['int_rate'] = df['int_rate'].apply(str_to_float) \n",
    "\n",
    "# Changing the zip code to be an int (first 3 numbers)\n",
    "def zip_to_int(s):\n",
    "    return int(s[:3])\n",
    "df['zip_code'] = [zip_to_int(s) for s in df['zip_code']]\n",
    "\n",
    "# Casting employment length to float\n",
    "df['emp_length'] = df['emp_length'].apply(str_to_float)\n",
    "df['emp_length'] = df['emp_length'].fillna(df['emp_length'].mean())"
   ]
  },
  {
   "cell_type": "code",
   "execution_count": 0,
   "metadata": {
    "colab": {},
    "colab_type": "code",
    "id": "8TgZCvojiNAL"
   },
   "outputs": [],
   "source": [
    "df_no_curr = df[df['loan_status'] != 'Current']"
   ]
  },
  {
   "cell_type": "markdown",
   "metadata": {
    "colab_type": "text",
    "id": "S718fhJ_QRNv"
   },
   "source": [
    "**Note about leaving only non-current:** The fact that I filter so many observations is highly problematic, But I want only the tagged data (in terms of loan status). There are probably ways to use these current observations, maybe as semi-tagged derived from clues in the data. Another thing that we can do with these observations is to use unsupervised models, such as anomaly detection or such. But for this work we will use only the non-current ones"
   ]
  },
  {
   "cell_type": "code",
   "execution_count": 0,
   "metadata": {
    "colab": {
     "base_uri": "https://localhost:8080/",
     "height": 35
    },
    "colab_type": "code",
    "id": "H94d02cupxea",
    "outputId": "fb9d1a28-1466-4caa-f2df-a2b69b7f85d6"
   },
   "outputs": [
    {
     "data": {
      "text/plain": [
       "5533"
      ]
     },
     "execution_count": 53,
     "metadata": {
      "tags": []
     },
     "output_type": "execute_result"
    }
   ],
   "source": [
    "len(df_no_curr['emp_title'].unique())"
   ]
  },
  {
   "cell_type": "code",
   "execution_count": 0,
   "metadata": {
    "colab": {
     "base_uri": "https://localhost:8080/",
     "height": 173
    },
    "colab_type": "code",
    "id": "mbGJQHch9Im7",
    "outputId": "d661cf16-2a1c-4e29-da06-553ee1765a4b"
   },
   "outputs": [
    {
     "data": {
      "text/plain": [
       "emp_title                       527\n",
       "desc                           8462\n",
       "mths_since_last_delinq         5032\n",
       "mths_since_last_record         8235\n",
       "last_pymnt_d                    107\n",
       "next_pymnt_d                   7322\n",
       "last_credit_pull_d                1\n",
       "mths_since_last_major_derog    7191\n",
       "dtype: int64"
      ]
     },
     "execution_count": 54,
     "metadata": {
      "tags": []
     },
     "output_type": "execute_result"
    }
   ],
   "source": [
    "num_of_nulls_per_col = df_no_curr.isnull().sum(axis = 0)\n",
    "num_of_nulls_per_col = num_of_nulls_per_col[num_of_nulls_per_col != 0]  # Filtering the zeros from this series\n",
    "num_of_nulls_per_col"
   ]
  },
  {
   "cell_type": "markdown",
   "metadata": {
    "colab_type": "text",
    "id": "F3UGq9WXO_iD"
   },
   "source": [
    "Like we can see there are columns which most of their values are missing, let's take them out "
   ]
  },
  {
   "cell_type": "code",
   "execution_count": 0,
   "metadata": {
    "colab": {},
    "colab_type": "code",
    "id": "C6cQlyHoPI0B"
   },
   "outputs": [],
   "source": [
    "df_no_curr = df_no_curr.drop(columns=['next_pymnt_d', 'mths_since_last_major_derog', 'desc', 'mths_since_last_record', 'mths_since_last_delinq'])"
   ]
  },
  {
   "cell_type": "markdown",
   "metadata": {
    "colab_type": "text",
    "id": "RHnsqfnTkaKy"
   },
   "source": [
    "I thought about fillng the emp length by average according to the grade but I see they're close to each other so no need"
   ]
  },
  {
   "cell_type": "code",
   "execution_count": 0,
   "metadata": {
    "colab": {
     "base_uri": "https://localhost:8080/",
     "height": 87
    },
    "colab_type": "code",
    "id": "NaapA31cVD-t",
    "outputId": "c32eef61-b72a-45a0-d6b8-ed734eb5cb02"
   },
   "outputs": [
    {
     "data": {
      "text/plain": [
       "emp_title             527\n",
       "last_pymnt_d          107\n",
       "last_credit_pull_d      1\n",
       "dtype: int64"
      ]
     },
     "execution_count": 56,
     "metadata": {
      "tags": []
     },
     "output_type": "execute_result"
    }
   ],
   "source": [
    "num_of_nulls_per_col = df_no_curr.isnull().sum(axis = 0)\n",
    "num_of_nulls_per_col = num_of_nulls_per_col[num_of_nulls_per_col != 0]  # Filtering the zeros from this series\n",
    "num_of_nulls_per_col"
   ]
  },
  {
   "cell_type": "markdown",
   "metadata": {
    "colab_type": "text",
    "id": "raARpIxLr_z1"
   },
   "source": [
    "I will drop the rows that have nan values sinse they're only 107-108 of them, and I will not going to work with emp title for now so I will drop it"
   ]
  },
  {
   "cell_type": "code",
   "execution_count": 0,
   "metadata": {
    "colab": {},
    "colab_type": "code",
    "id": "kKWDbs36r0hg"
   },
   "outputs": [],
   "source": [
    "df_no_curr = df_no_curr.dropna()"
   ]
  },
  {
   "cell_type": "code",
   "execution_count": 0,
   "metadata": {
    "colab": {
     "base_uri": "https://localhost:8080/",
     "height": 52
    },
    "colab_type": "code",
    "id": "OccirBAHr7HX",
    "outputId": "f50c26b0-3df6-4705-8b1b-80f264c9f352"
   },
   "outputs": [
    {
     "name": "stdout",
     "output_type": "stream",
     "text": [
      "We have left with: 9393 instances\n"
     ]
    },
    {
     "data": {
      "text/plain": [
       "Series([], dtype: int64)"
      ]
     },
     "execution_count": 58,
     "metadata": {
      "tags": []
     },
     "output_type": "execute_result"
    }
   ],
   "source": [
    "print(\"We have left with:\", len(df_no_curr), \"instances\")\n",
    "num_of_nulls_per_col = df_no_curr.isnull().sum(axis = 0)\n",
    "num_of_nulls_per_col = num_of_nulls_per_col[num_of_nulls_per_col != 0]  # Filtering the zeros from this series\n",
    "num_of_nulls_per_col  # Should return an empty series"
   ]
  },
  {
   "cell_type": "markdown",
   "metadata": {
    "colab_type": "text",
    "id": "wlNAwjs89Arn"
   },
   "source": [
    "# **Dealing with categories**\n",
    "\n",
    "---"
   ]
  },
  {
   "cell_type": "markdown",
   "metadata": {
    "colab_type": "text",
    "id": "tkIomQCheaFM"
   },
   "source": [
    "# The Problem Of 'emplyment title':\n",
    "\n",
    "**The problem:**\n",
    "Emplyment title is an important feature that tells alout about a borrower quality. The problem is that this field was filled in free language, which caused for thousands of unique strings trying to specify people's occupations. \n",
    "\n",
    "**Solution:** \n",
    "First of all I would use some NLP techniques: remove stop words, change everything to lower case and try to reduce words by find synonyms or words with the same meaning and turn them to one word ('car' and 'vehicle' will be one word). \n",
    "Then, I will want to cluster the occupation. There are several metods for clutering text, such as td-idf or LDA. I wouldn't choose td-idf since this algorithm takes into account the freq of a word in the instance divided by the frequency of this words in all instances, and in the 'emp title' we deal with very few words in each instance, hence title. I would try to use LDA, and then cluster each title to its \"topic\". Then I would have less unique values so I could encode it better, and the prediction models would probably work better\n",
    "\n",
    "For now I will drop it:"
   ]
  },
  {
   "cell_type": "code",
   "execution_count": 0,
   "metadata": {
    "colab": {},
    "colab_type": "code",
    "id": "vGKdjWwNfKy0"
   },
   "outputs": [],
   "source": [
    "df_no_curr = df_no_curr.drop(columns=['emp_title'])"
   ]
  },
  {
   "cell_type": "markdown",
   "metadata": {
    "colab_type": "text",
    "id": "VSYh1_ffZGuU"
   },
   "source": [
    "**Some of the categories are ordinal (order is important or there's meaning to the value) and some are nominal (all category ae equaly important) which I'll use dummies (one hot encoding):**\n",
    "\n"
   ]
  },
  {
   "cell_type": "code",
   "execution_count": 0,
   "metadata": {
    "colab": {},
    "colab_type": "code",
    "id": "weaeQyP6hr1b"
   },
   "outputs": [],
   "source": [
    "# Where magnitude/order is important\n",
    "df_no_curr['term'] = df_no_curr['term'].astype('category').cat.codes  \n",
    "df_no_curr['grade'] = df_no_curr['grade'].astype('category').cat.codes \n",
    "df_no_curr['sub_grade'] = df_no_curr['sub_grade'].astype('category').cat.codes\n",
    "df_no_curr['loan_status'] = df_no_curr['loan_status'].astype('category').cat.codes\n",
    "\n",
    "\n",
    "def str_to_date_to_int(date_str):\n",
    "    # this the foramt we get for example: Oct-29\n",
    "    try:\n",
    "      date = datetime.strptime(date_str, '%b-%d')\n",
    "    except ValueError:\n",
    "      return -1     \n",
    "    return 100*date.month + date.day\n",
    "  \n",
    "# Another mapper for date with year, like in earliest_cr_line  \n",
    "def str_to_date_to_int_year(date_str):\n",
    "    # this the foramt we get for example: Oct-99\n",
    "    try:\n",
    "      date = datetime.strptime(date_str, '%b-%y')\n",
    "    except ValueError:\n",
    "      return -1     \n",
    "    return 100*date.year + date.month\n",
    "  \n",
    "df_no_curr['last_credit_pull_d'] = df_no_curr['last_credit_pull_d'].apply(str_to_date_to_int_year)\n",
    "df_no_curr['last_pymnt_d'] = df_no_curr['last_pymnt_d'].apply(str_to_date_to_int_year)\n",
    "df_no_curr['issue_d'] = df_no_curr['issue_d'].apply(str_to_date_to_int_year)\n",
    "df_no_curr['earliest_cr_line'] = df_no_curr['earliest_cr_line'].apply(str_to_date_to_int_year)\n",
    "#df_no_curr = df_no_curr[df_no_curr['earliest_cr_line'] != -1]  # Taking out all the non-valid values\n",
    "\n",
    "# All variables are equally important - we use dummy variables\n",
    "df_feature_ready = pd.get_dummies(df_no_curr, columns=['initial_list_status', \n",
    "                                               'pymnt_plan', 'purpose', \n",
    "                                               'addr_state', 'home_ownership', \n",
    "                                               'is_inc_v', 'title'], \n",
    "                           prefix = ['initial_list_status', 'pymnt_plan', \n",
    "                                        'purpose', 'addr_state', \n",
    "                                        'home_ownership', 'is_inc_v', 'title'])"
   ]
  },
  {
   "cell_type": "code",
   "execution_count": 0,
   "metadata": {
    "colab": {
     "base_uri": "https://localhost:8080/",
     "height": 269
    },
    "colab_type": "code",
    "id": "i7PdwnuwvLrj",
    "outputId": "84fc99d3-6b84-4528-ac9a-3bbe9a7f267a"
   },
   "outputs": [
    {
     "data": {
      "text/html": [
       "<div>\n",
       "<style scoped>\n",
       "    .dataframe tbody tr th:only-of-type {\n",
       "        vertical-align: middle;\n",
       "    }\n",
       "\n",
       "    .dataframe tbody tr th {\n",
       "        vertical-align: top;\n",
       "    }\n",
       "\n",
       "    .dataframe thead th {\n",
       "        text-align: right;\n",
       "    }\n",
       "</style>\n",
       "<table border=\"1\" class=\"dataframe\">\n",
       "  <thead>\n",
       "    <tr style=\"text-align: right;\">\n",
       "      <th></th>\n",
       "      <th>id</th>\n",
       "      <th>member_id</th>\n",
       "      <th>loan_amnt</th>\n",
       "      <th>funded_amnt</th>\n",
       "      <th>funded_amnt_inv</th>\n",
       "      <th>term</th>\n",
       "      <th>int_rate</th>\n",
       "      <th>installment</th>\n",
       "      <th>grade</th>\n",
       "      <th>sub_grade</th>\n",
       "      <th>emp_length</th>\n",
       "      <th>annual_inc</th>\n",
       "      <th>issue_d</th>\n",
       "      <th>loan_status</th>\n",
       "      <th>zip_code</th>\n",
       "      <th>dti</th>\n",
       "      <th>delinq_2yrs</th>\n",
       "      <th>earliest_cr_line</th>\n",
       "      <th>inq_last_6mths</th>\n",
       "      <th>open_acc</th>\n",
       "      <th>pub_rec</th>\n",
       "      <th>revol_bal</th>\n",
       "      <th>revol_util</th>\n",
       "      <th>total_acc</th>\n",
       "      <th>out_prncp</th>\n",
       "      <th>out_prncp_inv</th>\n",
       "      <th>total_pymnt</th>\n",
       "      <th>total_pymnt_inv</th>\n",
       "      <th>total_rec_prncp</th>\n",
       "      <th>total_rec_int</th>\n",
       "      <th>total_rec_late_fee</th>\n",
       "      <th>recoveries</th>\n",
       "      <th>collection_recovery_fee</th>\n",
       "      <th>last_pymnt_d</th>\n",
       "      <th>last_pymnt_amnt</th>\n",
       "      <th>last_credit_pull_d</th>\n",
       "      <th>collections_12_mths_ex_med</th>\n",
       "      <th>policy_code</th>\n",
       "      <th>initial_list_status_f</th>\n",
       "      <th>initial_list_status_w</th>\n",
       "      <th>...</th>\n",
       "      <th>addr_state_MA</th>\n",
       "      <th>addr_state_MD</th>\n",
       "      <th>addr_state_MI</th>\n",
       "      <th>addr_state_MN</th>\n",
       "      <th>addr_state_MO</th>\n",
       "      <th>addr_state_MS</th>\n",
       "      <th>addr_state_MT</th>\n",
       "      <th>addr_state_NC</th>\n",
       "      <th>addr_state_NH</th>\n",
       "      <th>addr_state_NJ</th>\n",
       "      <th>addr_state_NM</th>\n",
       "      <th>addr_state_NV</th>\n",
       "      <th>addr_state_NY</th>\n",
       "      <th>addr_state_OH</th>\n",
       "      <th>addr_state_OK</th>\n",
       "      <th>addr_state_OR</th>\n",
       "      <th>addr_state_PA</th>\n",
       "      <th>addr_state_RI</th>\n",
       "      <th>addr_state_SC</th>\n",
       "      <th>addr_state_SD</th>\n",
       "      <th>addr_state_TN</th>\n",
       "      <th>addr_state_TX</th>\n",
       "      <th>addr_state_UT</th>\n",
       "      <th>addr_state_VA</th>\n",
       "      <th>addr_state_VT</th>\n",
       "      <th>addr_state_WA</th>\n",
       "      <th>addr_state_WI</th>\n",
       "      <th>addr_state_WV</th>\n",
       "      <th>addr_state_WY</th>\n",
       "      <th>home_ownership_ANY</th>\n",
       "      <th>home_ownership_MORTGAGE</th>\n",
       "      <th>home_ownership_OWN</th>\n",
       "      <th>home_ownership_RENT</th>\n",
       "      <th>is_inc_v_Not Verified</th>\n",
       "      <th>is_inc_v_Source Verified</th>\n",
       "      <th>is_inc_v_Verified</th>\n",
       "      <th>title_car</th>\n",
       "      <th>title_else</th>\n",
       "      <th>title_home</th>\n",
       "      <th>title_repay_debt</th>\n",
       "    </tr>\n",
       "  </thead>\n",
       "  <tbody>\n",
       "    <tr>\n",
       "      <th>252</th>\n",
       "      <td>27961985</td>\n",
       "      <td>30465098</td>\n",
       "      <td>10000</td>\n",
       "      <td>10000</td>\n",
       "      <td>10000</td>\n",
       "      <td>0</td>\n",
       "      <td>16.99</td>\n",
       "      <td>356.48</td>\n",
       "      <td>3</td>\n",
       "      <td>17</td>\n",
       "      <td>7.0</td>\n",
       "      <td>86000.0</td>\n",
       "      <td>201409</td>\n",
       "      <td>2</td>\n",
       "      <td>20</td>\n",
       "      <td>20.03</td>\n",
       "      <td>1</td>\n",
       "      <td>199410</td>\n",
       "      <td>1</td>\n",
       "      <td>16</td>\n",
       "      <td>1</td>\n",
       "      <td>26855</td>\n",
       "      <td>0.774</td>\n",
       "      <td>55</td>\n",
       "      <td>0.0</td>\n",
       "      <td>0.0</td>\n",
       "      <td>10141.59</td>\n",
       "      <td>10141.59</td>\n",
       "      <td>10000.0</td>\n",
       "      <td>141.59</td>\n",
       "      <td>0.0</td>\n",
       "      <td>0.0</td>\n",
       "      <td>0.0</td>\n",
       "      <td>201410</td>\n",
       "      <td>10141.59</td>\n",
       "      <td>201411</td>\n",
       "      <td>0</td>\n",
       "      <td>1</td>\n",
       "      <td>1</td>\n",
       "      <td>0</td>\n",
       "      <td>...</td>\n",
       "      <td>1</td>\n",
       "      <td>0</td>\n",
       "      <td>0</td>\n",
       "      <td>0</td>\n",
       "      <td>0</td>\n",
       "      <td>0</td>\n",
       "      <td>0</td>\n",
       "      <td>0</td>\n",
       "      <td>0</td>\n",
       "      <td>0</td>\n",
       "      <td>0</td>\n",
       "      <td>0</td>\n",
       "      <td>0</td>\n",
       "      <td>0</td>\n",
       "      <td>0</td>\n",
       "      <td>0</td>\n",
       "      <td>0</td>\n",
       "      <td>0</td>\n",
       "      <td>0</td>\n",
       "      <td>0</td>\n",
       "      <td>0</td>\n",
       "      <td>0</td>\n",
       "      <td>0</td>\n",
       "      <td>0</td>\n",
       "      <td>0</td>\n",
       "      <td>0</td>\n",
       "      <td>0</td>\n",
       "      <td>0</td>\n",
       "      <td>0</td>\n",
       "      <td>0</td>\n",
       "      <td>1</td>\n",
       "      <td>0</td>\n",
       "      <td>0</td>\n",
       "      <td>0</td>\n",
       "      <td>1</td>\n",
       "      <td>0</td>\n",
       "      <td>0</td>\n",
       "      <td>0</td>\n",
       "      <td>0</td>\n",
       "      <td>1</td>\n",
       "    </tr>\n",
       "    <tr>\n",
       "      <th>631</th>\n",
       "      <td>27522055</td>\n",
       "      <td>30025199</td>\n",
       "      <td>17000</td>\n",
       "      <td>17000</td>\n",
       "      <td>16975</td>\n",
       "      <td>0</td>\n",
       "      <td>6.49</td>\n",
       "      <td>520.96</td>\n",
       "      <td>0</td>\n",
       "      <td>1</td>\n",
       "      <td>1.0</td>\n",
       "      <td>129996.0</td>\n",
       "      <td>201409</td>\n",
       "      <td>2</td>\n",
       "      <td>296</td>\n",
       "      <td>7.07</td>\n",
       "      <td>1</td>\n",
       "      <td>199602</td>\n",
       "      <td>1</td>\n",
       "      <td>8</td>\n",
       "      <td>0</td>\n",
       "      <td>7845</td>\n",
       "      <td>0.139</td>\n",
       "      <td>21</td>\n",
       "      <td>0.0</td>\n",
       "      <td>0.0</td>\n",
       "      <td>17100.91</td>\n",
       "      <td>17075.76</td>\n",
       "      <td>17000.0</td>\n",
       "      <td>100.91</td>\n",
       "      <td>0.0</td>\n",
       "      <td>0.0</td>\n",
       "      <td>0.0</td>\n",
       "      <td>201410</td>\n",
       "      <td>17100.91</td>\n",
       "      <td>201410</td>\n",
       "      <td>0</td>\n",
       "      <td>1</td>\n",
       "      <td>1</td>\n",
       "      <td>0</td>\n",
       "      <td>...</td>\n",
       "      <td>0</td>\n",
       "      <td>0</td>\n",
       "      <td>0</td>\n",
       "      <td>0</td>\n",
       "      <td>0</td>\n",
       "      <td>0</td>\n",
       "      <td>0</td>\n",
       "      <td>0</td>\n",
       "      <td>0</td>\n",
       "      <td>0</td>\n",
       "      <td>0</td>\n",
       "      <td>0</td>\n",
       "      <td>0</td>\n",
       "      <td>0</td>\n",
       "      <td>0</td>\n",
       "      <td>0</td>\n",
       "      <td>0</td>\n",
       "      <td>0</td>\n",
       "      <td>1</td>\n",
       "      <td>0</td>\n",
       "      <td>0</td>\n",
       "      <td>0</td>\n",
       "      <td>0</td>\n",
       "      <td>0</td>\n",
       "      <td>0</td>\n",
       "      <td>0</td>\n",
       "      <td>0</td>\n",
       "      <td>0</td>\n",
       "      <td>0</td>\n",
       "      <td>0</td>\n",
       "      <td>1</td>\n",
       "      <td>0</td>\n",
       "      <td>0</td>\n",
       "      <td>1</td>\n",
       "      <td>0</td>\n",
       "      <td>0</td>\n",
       "      <td>1</td>\n",
       "      <td>0</td>\n",
       "      <td>0</td>\n",
       "      <td>0</td>\n",
       "    </tr>\n",
       "    <tr>\n",
       "      <th>636</th>\n",
       "      <td>27522110</td>\n",
       "      <td>30025261</td>\n",
       "      <td>8025</td>\n",
       "      <td>8025</td>\n",
       "      <td>8025</td>\n",
       "      <td>0</td>\n",
       "      <td>18.24</td>\n",
       "      <td>291.10</td>\n",
       "      <td>3</td>\n",
       "      <td>19</td>\n",
       "      <td>10.0</td>\n",
       "      <td>68000.0</td>\n",
       "      <td>201409</td>\n",
       "      <td>2</td>\n",
       "      <td>190</td>\n",
       "      <td>6.23</td>\n",
       "      <td>0</td>\n",
       "      <td>199811</td>\n",
       "      <td>1</td>\n",
       "      <td>11</td>\n",
       "      <td>0</td>\n",
       "      <td>9134</td>\n",
       "      <td>0.823</td>\n",
       "      <td>16</td>\n",
       "      <td>0.0</td>\n",
       "      <td>0.0</td>\n",
       "      <td>8146.98</td>\n",
       "      <td>8146.98</td>\n",
       "      <td>8025.0</td>\n",
       "      <td>121.98</td>\n",
       "      <td>0.0</td>\n",
       "      <td>0.0</td>\n",
       "      <td>0.0</td>\n",
       "      <td>201410</td>\n",
       "      <td>8146.98</td>\n",
       "      <td>201411</td>\n",
       "      <td>0</td>\n",
       "      <td>1</td>\n",
       "      <td>0</td>\n",
       "      <td>1</td>\n",
       "      <td>...</td>\n",
       "      <td>0</td>\n",
       "      <td>0</td>\n",
       "      <td>0</td>\n",
       "      <td>0</td>\n",
       "      <td>0</td>\n",
       "      <td>0</td>\n",
       "      <td>0</td>\n",
       "      <td>0</td>\n",
       "      <td>0</td>\n",
       "      <td>0</td>\n",
       "      <td>0</td>\n",
       "      <td>0</td>\n",
       "      <td>0</td>\n",
       "      <td>0</td>\n",
       "      <td>0</td>\n",
       "      <td>0</td>\n",
       "      <td>1</td>\n",
       "      <td>0</td>\n",
       "      <td>0</td>\n",
       "      <td>0</td>\n",
       "      <td>0</td>\n",
       "      <td>0</td>\n",
       "      <td>0</td>\n",
       "      <td>0</td>\n",
       "      <td>0</td>\n",
       "      <td>0</td>\n",
       "      <td>0</td>\n",
       "      <td>0</td>\n",
       "      <td>0</td>\n",
       "      <td>0</td>\n",
       "      <td>0</td>\n",
       "      <td>1</td>\n",
       "      <td>0</td>\n",
       "      <td>0</td>\n",
       "      <td>0</td>\n",
       "      <td>1</td>\n",
       "      <td>0</td>\n",
       "      <td>0</td>\n",
       "      <td>0</td>\n",
       "      <td>1</td>\n",
       "    </tr>\n",
       "    <tr>\n",
       "      <th>794</th>\n",
       "      <td>27541860</td>\n",
       "      <td>30044989</td>\n",
       "      <td>20000</td>\n",
       "      <td>20000</td>\n",
       "      <td>20000</td>\n",
       "      <td>1</td>\n",
       "      <td>11.67</td>\n",
       "      <td>441.57</td>\n",
       "      <td>1</td>\n",
       "      <td>8</td>\n",
       "      <td>4.0</td>\n",
       "      <td>100000.0</td>\n",
       "      <td>201409</td>\n",
       "      <td>2</td>\n",
       "      <td>217</td>\n",
       "      <td>7.72</td>\n",
       "      <td>1</td>\n",
       "      <td>199509</td>\n",
       "      <td>1</td>\n",
       "      <td>11</td>\n",
       "      <td>0</td>\n",
       "      <td>11481</td>\n",
       "      <td>0.649</td>\n",
       "      <td>34</td>\n",
       "      <td>0.0</td>\n",
       "      <td>0.0</td>\n",
       "      <td>20194.50</td>\n",
       "      <td>20194.50</td>\n",
       "      <td>20000.0</td>\n",
       "      <td>194.50</td>\n",
       "      <td>0.0</td>\n",
       "      <td>0.0</td>\n",
       "      <td>0.0</td>\n",
       "      <td>201410</td>\n",
       "      <td>20194.50</td>\n",
       "      <td>201410</td>\n",
       "      <td>0</td>\n",
       "      <td>1</td>\n",
       "      <td>0</td>\n",
       "      <td>1</td>\n",
       "      <td>...</td>\n",
       "      <td>0</td>\n",
       "      <td>1</td>\n",
       "      <td>0</td>\n",
       "      <td>0</td>\n",
       "      <td>0</td>\n",
       "      <td>0</td>\n",
       "      <td>0</td>\n",
       "      <td>0</td>\n",
       "      <td>0</td>\n",
       "      <td>0</td>\n",
       "      <td>0</td>\n",
       "      <td>0</td>\n",
       "      <td>0</td>\n",
       "      <td>0</td>\n",
       "      <td>0</td>\n",
       "      <td>0</td>\n",
       "      <td>0</td>\n",
       "      <td>0</td>\n",
       "      <td>0</td>\n",
       "      <td>0</td>\n",
       "      <td>0</td>\n",
       "      <td>0</td>\n",
       "      <td>0</td>\n",
       "      <td>0</td>\n",
       "      <td>0</td>\n",
       "      <td>0</td>\n",
       "      <td>0</td>\n",
       "      <td>0</td>\n",
       "      <td>0</td>\n",
       "      <td>0</td>\n",
       "      <td>1</td>\n",
       "      <td>0</td>\n",
       "      <td>0</td>\n",
       "      <td>0</td>\n",
       "      <td>1</td>\n",
       "      <td>0</td>\n",
       "      <td>0</td>\n",
       "      <td>0</td>\n",
       "      <td>0</td>\n",
       "      <td>1</td>\n",
       "    </tr>\n",
       "    <tr>\n",
       "      <th>829</th>\n",
       "      <td>27601871</td>\n",
       "      <td>30105029</td>\n",
       "      <td>14000</td>\n",
       "      <td>14000</td>\n",
       "      <td>14000</td>\n",
       "      <td>1</td>\n",
       "      <td>20.20</td>\n",
       "      <td>372.48</td>\n",
       "      <td>4</td>\n",
       "      <td>22</td>\n",
       "      <td>5.0</td>\n",
       "      <td>41500.0</td>\n",
       "      <td>201409</td>\n",
       "      <td>2</td>\n",
       "      <td>605</td>\n",
       "      <td>13.98</td>\n",
       "      <td>0</td>\n",
       "      <td>199403</td>\n",
       "      <td>2</td>\n",
       "      <td>11</td>\n",
       "      <td>0</td>\n",
       "      <td>9554</td>\n",
       "      <td>0.415</td>\n",
       "      <td>48</td>\n",
       "      <td>0.0</td>\n",
       "      <td>0.0</td>\n",
       "      <td>14235.67</td>\n",
       "      <td>14235.67</td>\n",
       "      <td>14000.0</td>\n",
       "      <td>235.67</td>\n",
       "      <td>0.0</td>\n",
       "      <td>0.0</td>\n",
       "      <td>0.0</td>\n",
       "      <td>201410</td>\n",
       "      <td>14235.67</td>\n",
       "      <td>201410</td>\n",
       "      <td>0</td>\n",
       "      <td>1</td>\n",
       "      <td>0</td>\n",
       "      <td>1</td>\n",
       "      <td>...</td>\n",
       "      <td>0</td>\n",
       "      <td>0</td>\n",
       "      <td>0</td>\n",
       "      <td>0</td>\n",
       "      <td>0</td>\n",
       "      <td>0</td>\n",
       "      <td>0</td>\n",
       "      <td>0</td>\n",
       "      <td>0</td>\n",
       "      <td>0</td>\n",
       "      <td>0</td>\n",
       "      <td>0</td>\n",
       "      <td>0</td>\n",
       "      <td>0</td>\n",
       "      <td>0</td>\n",
       "      <td>0</td>\n",
       "      <td>0</td>\n",
       "      <td>0</td>\n",
       "      <td>0</td>\n",
       "      <td>0</td>\n",
       "      <td>0</td>\n",
       "      <td>0</td>\n",
       "      <td>0</td>\n",
       "      <td>0</td>\n",
       "      <td>0</td>\n",
       "      <td>0</td>\n",
       "      <td>0</td>\n",
       "      <td>0</td>\n",
       "      <td>0</td>\n",
       "      <td>0</td>\n",
       "      <td>0</td>\n",
       "      <td>0</td>\n",
       "      <td>1</td>\n",
       "      <td>0</td>\n",
       "      <td>0</td>\n",
       "      <td>1</td>\n",
       "      <td>0</td>\n",
       "      <td>0</td>\n",
       "      <td>0</td>\n",
       "      <td>1</td>\n",
       "    </tr>\n",
       "  </tbody>\n",
       "</table>\n",
       "<p>5 rows × 112 columns</p>\n",
       "</div>"
      ],
      "text/plain": [
       "           id  member_id  loan_amnt  ...  title_else  title_home  title_repay_debt\n",
       "252  27961985   30465098      10000  ...           0           0                 1\n",
       "631  27522055   30025199      17000  ...           0           0                 0\n",
       "636  27522110   30025261       8025  ...           0           0                 1\n",
       "794  27541860   30044989      20000  ...           0           0                 1\n",
       "829  27601871   30105029      14000  ...           0           0                 1\n",
       "\n",
       "[5 rows x 112 columns]"
      ]
     },
     "execution_count": 61,
     "metadata": {
      "tags": []
     },
     "output_type": "execute_result"
    }
   ],
   "source": [
    "df_feature_ready.head()"
   ]
  },
  {
   "cell_type": "markdown",
   "metadata": {
    "colab_type": "text",
    "id": "B7Q65LL1NOyn"
   },
   "source": [
    "**Note for the ordinal categorial featurs:** we represent them with integers. But we need to make sure that their values don't hurt the model. For example: 'term' should be 36 and 60, or 0 and 1? or maybe somethig else? we need to examine this. "
   ]
  },
  {
   "cell_type": "markdown",
   "metadata": {
    "colab_type": "text",
    "id": "5mIVGvOVX0R1"
   },
   "source": [
    "# **Modeling**"
   ]
  },
  {
   "cell_type": "code",
   "execution_count": 0,
   "metadata": {
    "colab": {},
    "colab_type": "code",
    "id": "modQM-h0X3uI"
   },
   "outputs": [],
   "source": [
    "x=df_feature_ready.drop(['loan_status', 'grade'],axis=1).values  # I take out the grade as well since sub grade is in and they are highly correlated\n",
    "y=df_feature_ready['loan_status']\n",
    "x_train, x_test, y_train, y_test = train_test_split(x,y,test_size=0.3,random_state=21)"
   ]
  },
  {
   "cell_type": "markdown",
   "metadata": {
    "colab_type": "text",
    "id": "NJLwHzwAZkS0"
   },
   "source": [
    "**Random Forest**\n"
   ]
  },
  {
   "cell_type": "markdown",
   "metadata": {
    "colab_type": "text",
    "id": "E-VlRkuanriL"
   },
   "source": [
    "Let's try to predict, given a new borrower, in which loan status category is going to end up:"
   ]
  },
  {
   "cell_type": "code",
   "execution_count": 0,
   "metadata": {
    "colab": {
     "base_uri": "https://localhost:8080/",
     "height": 107
    },
    "colab_type": "code",
    "id": "OYMWJTS9ZeYs",
    "outputId": "4f718069-8ea6-4c26-84b9-c08d780386cb"
   },
   "outputs": [
    {
     "name": "stdout",
     "output_type": "stream",
     "text": [
      "Training score:  0.9447908745247148\n",
      "Testing score:  0.9229950319375444\n"
     ]
    },
    {
     "name": "stderr",
     "output_type": "stream",
     "text": [
      "/usr/local/lib/python3.6/dist-packages/sklearn/ensemble/forest.py:245: FutureWarning: The default value of n_estimators will change from 10 in version 0.20 to 100 in 0.22.\n",
      "  \"10 in version 0.20 to 100 in 0.22.\", FutureWarning)\n"
     ]
    }
   ],
   "source": [
    "rfc = RandomForestClassifier(max_depth=7)\n",
    "rfc.fit(x_train, y_train)\n",
    "rfc_score_train = rfc.score(x_train, y_train)\n",
    "print(\"Training score: \",rfc_score_train)\n",
    "rfc_score_test = rfc.score(x_test, y_test)\n",
    "print(\"Testing score: \",rfc_score_test)"
   ]
  },
  {
   "cell_type": "markdown",
   "metadata": {
    "colab_type": "text",
    "id": "Zwl5BpP0pbY5"
   },
   "source": [
    "**Conclusions about the model:**"
   ]
  },
  {
   "cell_type": "markdown",
   "metadata": {
    "colab_type": "text",
    "id": "OltcD4Pmcq6f"
   },
   "source": [
    "* I choose random forest because its ability to control overfitting and dealing with high dimensonality. \n",
    "\n",
    "* And yet, it looks like there is overfitting (training score is very high). Porbably mainly because there are some labels that very few, like 76 observation for 'Default'. I can solve it by a) getting more data, or b), like I already wrote, using xgboost or something similar to that to give this labels more weight. \n",
    "\n",
    "* Another problem is that some of the features are correlated. (grade - sub grade, income and grade etc.). This is obviously need more work and research\n",
    "\n",
    "\n"
   ]
  },
  {
   "cell_type": "markdown",
   "metadata": {
    "colab_type": "text",
    "id": "b-qLPiK9idKF"
   },
   "source": [
    "# **Lior Katz**"
   ]
  }
 ],
 "metadata": {
  "colab": {
   "collapsed_sections": [],
   "name": "loans",
   "provenance": [],
   "version": "0.3.2"
  },
  "kernelspec": {
   "display_name": "Python 3",
   "language": "python",
   "name": "python3"
  },
  "language_info": {
   "codemirror_mode": {
    "name": "ipython",
    "version": 3
   },
   "file_extension": ".py",
   "mimetype": "text/x-python",
   "name": "python",
   "nbconvert_exporter": "python",
   "pygments_lexer": "ipython3",
   "version": "3.6.3"
  }
 },
 "nbformat": 4,
 "nbformat_minor": 1
}
